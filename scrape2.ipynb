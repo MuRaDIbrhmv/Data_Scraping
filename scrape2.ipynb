{
 "cells": [
  {
   "cell_type": "code",
   "execution_count": 53,
   "id": "86736f12",
   "metadata": {},
   "outputs": [],
   "source": [
    "from bs4 import BeautifulSoup\n",
    "from selenium import webdriver\n",
    "import requests\n",
    "import pandas as pd\n",
    "import numpy as np\n",
    "import time\n",
    "import json\n"
   ]
  },
  {
   "cell_type": "code",
   "execution_count": null,
   "id": "097d2340",
   "metadata": {},
   "outputs": [],
   "source": [
    "# amazon_url = \"https://www.amazon.com/Logitech-Headphones-Canceling-Microphone-Chromebook/dp/B0F5HC4FRL/ref=sr_1_2_sspa?crid=2RXU5QF0WCPPX&dib=eyJ2IjoiMSJ9.UJqi8EFNPupulh7gnfbeTbQvG-f90mOPqqdBqEKI18JmF0n3qo1z-HaXJl6BKUn0SKDIafKt5Tv7Aj2QMVBz1RztGNkYXR9915VPI5XundQEV_-mrXhK-Nx75dgZsKt0Pzx-FT2s6S32E1DxJNr9BZ1UtBludTcqJ7ybsnK3vJPRuFPGVCt_kwl-I4qzOhB8B6hci6ALh47ePaRxvLYhXrj3C_s1wGvbA9SR9Pr-e6I.VeX40Vrk_DyZ7m9EhvjqAaWUXx5jDT5RKlDwi0oKXPw&dib_tag=se&keywords=headphones&qid=1756569456&sprefix=headphon%2Caps%2C320&sr=8-2-spons&sp_csd=d2lkZ2V0TmFtZT1zcF9hdGY&th=1\"\n",
    "# base_url = \"https://www.amazon.com/\""
   ]
  },
  {
   "cell_type": "code",
   "execution_count": 42,
   "id": "8e2cf1fa",
   "metadata": {},
   "outputs": [],
   "source": [
    "HEADERS = {\n",
    "    \"Accept\" : \"*/*\",\n",
    "    \"Accept-Encoding\": \"gzip, deflate, br, zstd\",\n",
    "    \"Accept-Language\": \"en-US,en;q=0.9,ru-RU;q=0.8,ru;q=0.7\",\n",
    "    \"User-Agent\": \"Mozilla/5.0 (Windows NT 10.0; Win64; x64) AppleWebKit/537.36 (KHTML, like Gecko) Chrome/139.0.0.0 Safari/537.36\"\n",
    "}"
   ]
  },
  {
   "cell_type": "code",
   "execution_count": 56,
   "id": "070d7fba",
   "metadata": {},
   "outputs": [
    {
     "name": "stdout",
     "output_type": "stream",
     "text": [
      "['65.99', '29.99', '69.97', '55.99', '13.28', '15.99', '24.99', '20.49', '27.99', '29.41', '19.99', '29.99', '69.99', '32.99', '295.00', '59.99', '59.99', '77.96', '27.98', '29.99', '21.99', '34.99', '49.99', '29.99', '29.41', '19.99', '20.49']\n"
     ]
    }
   ],
   "source": [
    "# response = requests.get(amazon_url, headers=HEADERS)\n",
    "\n",
    "\n",
    "url = \"https://www.amazon.com/dp/B0F5HC4FRL\"\n",
    "options = webdriver.ChromeOptions()\n",
    "options.add_argument(\"--headless\")  # run in background\n",
    "options.add_argument(\"user-agent=Mozilla/5.0 ... Safari/537.36\")\n",
    "\n",
    "driver = webdriver.Chrome(options=options)\n",
    "driver.get(url)\n",
    "time.sleep(2)  # wait for JS to load\n",
    "\n",
    "soup = BeautifulSoup(driver.page_source, \"html.parser\")\n",
    "\n",
    "prices = []\n",
    "for tag in soup.find_all(\"span\", class_=\"a-price\"):\n",
    "    whole = tag.find(\"span\", class_=\"a-price-whole\")\n",
    "    fraction = tag.find(\"span\", class_=\"a-price-fraction\")\n",
    "    if whole and fraction:\n",
    "        prices.append(whole.get_text(strip=True) + fraction.get_text(strip=True))\n",
    "\n",
    "print(prices)\n",
    "driver.quit()\n",
    "\n"
   ]
  }
 ],
 "metadata": {
  "kernelspec": {
   "display_name": "Python 3",
   "language": "python",
   "name": "python3"
  },
  "language_info": {
   "codemirror_mode": {
    "name": "ipython",
    "version": 3
   },
   "file_extension": ".py",
   "mimetype": "text/x-python",
   "name": "python",
   "nbconvert_exporter": "python",
   "pygments_lexer": "ipython3",
   "version": "3.12.0"
  }
 },
 "nbformat": 4,
 "nbformat_minor": 5
}
