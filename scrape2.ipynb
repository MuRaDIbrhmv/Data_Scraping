{
 "cells": [
  {
   "cell_type": "code",
   "execution_count": 51,
   "id": "86736f12",
   "metadata": {},
   "outputs": [],
   "source": [
    "from bs4 import BeautifulSoup\n",
    "import requests\n",
    "import pandas as pd\n",
    "import numpy as np\n",
    "import json\n"
   ]
  },
  {
   "cell_type": "code",
   "execution_count": 2,
   "id": "097d2340",
   "metadata": {},
   "outputs": [],
   "source": [
    "amazon_url = \"https://www.amazon.com/Logitech-Headphones-Canceling-Microphone-Chromebook/dp/B0F5HC4FRL/ref=sr_1_2_sspa?crid=2RXU5QF0WCPPX&dib=eyJ2IjoiMSJ9.UJqi8EFNPupulh7gnfbeTbQvG-f90mOPqqdBqEKI18JmF0n3qo1z-HaXJl6BKUn0SKDIafKt5Tv7Aj2QMVBz1RztGNkYXR9915VPI5XundQEV_-mrXhK-Nx75dgZsKt0Pzx-FT2s6S32E1DxJNr9BZ1UtBludTcqJ7ybsnK3vJPRuFPGVCt_kwl-I4qzOhB8B6hci6ALh47ePaRxvLYhXrj3C_s1wGvbA9SR9Pr-e6I.VeX40Vrk_DyZ7m9EhvjqAaWUXx5jDT5RKlDwi0oKXPw&dib_tag=se&keywords=headphones&qid=1756569456&sprefix=headphon%2Caps%2C320&sr=8-2-spons&sp_csd=d2lkZ2V0TmFtZT1zcF9hdGY&th=1\"\n",
    "base_url = \"https://www.amazon.com/\""
   ]
  },
  {
   "cell_type": "code",
   "execution_count": 42,
   "id": "8e2cf1fa",
   "metadata": {},
   "outputs": [],
   "source": [
    "HEADERS = {\n",
    "    \"Accept\" : \"*/*\",\n",
    "    \"Accept-Encoding\": \"gzip, deflate, br, zstd\",\n",
    "    \"Accept-Language\": \"en-US,en;q=0.9,ru-RU;q=0.8,ru;q=0.7\",\n",
    "    \"User-Agent\": \"Mozilla/5.0 (Windows NT 10.0; Win64; x64) AppleWebKit/537.36 (KHTML, like Gecko) Chrome/139.0.0.0 Safari/537.36\"\n",
    "}"
   ]
  },
  {
   "cell_type": "code",
   "execution_count": 49,
   "id": "070d7fba",
   "metadata": {},
   "outputs": [],
   "source": [
    "response = requests.get(amazon_url, headers=HEADERS)\n",
    "soup = BeautifulSoup(response.text, \"html.parser\")\n",
    "tags = soup.find(\"div\", id = \"corePrice_feature_div\")\n",
    "html = tags\n"
   ]
  },
  {
   "cell_type": "code",
   "execution_count": 50,
   "id": "31b3bddf",
   "metadata": {},
   "outputs": [
    {
     "data": {
      "text/plain": [
       "<div class=\"celwidget\" data-csa-c-asin=\"B0F5HC4FRL\" data-csa-c-content-id=\"corePrice\" data-csa-c-is-in-initial-active-row=\"false\" data-csa-c-slot-id=\"corePrice_feature_div\" data-csa-c-type=\"widget\" data-feature-name=\"corePrice\" id=\"corePrice_feature_div\">\n",
       "<div data-csa-c-content-id=\"apex_with_rio_cx\" data-csa-c-slot-id=\"apex_dp_offer_display\" data-csa-c-type=\"widget\">\n",
       "<div class=\"a-section a-spacing-micro\"> <span class=\"a-price aok-align-center\" data-a-color=\"base\" data-a-size=\"xl\"><span class=\"a-offscreen\">$24.99</span><span aria-hidden=\"true\"><span class=\"a-price-symbol\">$</span><span class=\"a-price-whole\">24<span class=\"a-price-decimal\">.</span></span><span class=\"a-price-fraction\">99</span></span></span> <span class=\"a-size-mini a-color-base aok-align-center aok-nowrap\" id=\"taxInclusiveMessage\"> </span> </div> </div>\n",
       "</div>"
      ]
     },
     "execution_count": 50,
     "metadata": {},
     "output_type": "execute_result"
    }
   ],
   "source": [
    "html"
   ]
  },
  {
   "cell_type": "code",
   "execution_count": 38,
   "id": "fcbbff52",
   "metadata": {},
   "outputs": [
    {
     "name": "stdout",
     "output_type": "stream",
     "text": [
      "Price: 24.99\n"
     ]
    }
   ],
   "source": [
    "if tags:\n",
    "    for tag in tags:\n",
    "        price_whole = tag.find(\"span\", class_=\"a-price-whole\")\n",
    "        price_fraction = tag.find(\"span\", class_=\"a-price-fraction\")\n",
    "\n",
    "        if price_whole and price_fraction:\n",
    "            price = price_whole.get_text(strip=True) + price_fraction.get_text(strip=True)\n",
    "            print(\"Price:\", price)\n"
   ]
  }
 ],
 "metadata": {
  "kernelspec": {
   "display_name": "Python 3",
   "language": "python",
   "name": "python3"
  },
  "language_info": {
   "codemirror_mode": {
    "name": "ipython",
    "version": 3
   },
   "file_extension": ".py",
   "mimetype": "text/x-python",
   "name": "python",
   "nbconvert_exporter": "python",
   "pygments_lexer": "ipython3",
   "version": "3.12.0"
  }
 },
 "nbformat": 4,
 "nbformat_minor": 5
}
