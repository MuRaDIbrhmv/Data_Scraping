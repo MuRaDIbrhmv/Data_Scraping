{
 "cells": [
  {
   "cell_type": "code",
   "execution_count": 1,
   "id": "7c3c7b6b",
   "metadata": {},
   "outputs": [],
   "source": [
    "from bs4 import BeautifulSoup as bs \n",
    "import requests\n",
    "import pandas as pd\n",
    "import json\n"
   ]
  },
  {
   "cell_type": "code",
   "execution_count": 2,
   "id": "5c3e6dbc",
   "metadata": {},
   "outputs": [],
   "source": [
    "main_url = \"https://www.mobile.de\"\n",
    "#url = \"https://suchen.mobile.de/fahrzeuge/details.html?id=431952942&c=EstateCar&c=SmallCar&c=SportsCar&dam=false&fr=2020%3A&isSearchRequest=true&ml=%3A50000&p=35000%3A&ref=srp&refId=e9e375a7-ecbe-887b-9e4f-82a270b3413d&s=Car&searchId=e9e375a7-ecbe-887b-9e4f-82a270b3413d&vc=Car\"\n",
    "url = \"https://suchen.mobile.de/fahrzeuge/details.html?id=431952942\""
   ]
  },
  {
   "cell_type": "code",
   "execution_count": 33,
   "id": "1d48b415",
   "metadata": {},
   "outputs": [],
   "source": [
    "request = requests.get(url)\n",
    "soup = bs(request.text, \"html.parser\")\n",
    "\n",
    "def extract_text_by_label(label):\n",
    "    \"\"\"Find a <dt> element with the label text and get the corresponding <dd> value.\"\"\"\n",
    "    dt = soup.find(\"dt\", string=lambda x: x and label in x)\n",
    "    if dt:\n",
    "        dd = dt.find_next_sibling(\"dd\")\n",
    "        if dd:\n",
    "            return dd.get_text(strip=True)\n",
    "    return None\n",
    "\n",
    "data = {\n",
    "    \"Brand\": extract_text_by_label(\"Make\"),\n",
    "    \"Model\": extract_text_by_label(\"Model\"),\n",
    "    \"Year\": extract_text_by_label(\"First registration\"),\n",
    "    \"Mileage\": extract_text_by_label(\"Mileage\"),\n",
    "    \"Price\": soup.select_one(\"div.price-block\") and soup.select_one(\"div.price-block\").get_text(strip=True),\n",
    "    \"Engine\": extract_text_by_label(\"Cubic capacity\"),\n",
    "    \"HP\": extract_text_by_label(\"Power\"),\n",
    "}"
   ]
  },
  {
   "cell_type": "code",
   "execution_count": 34,
   "id": "028934d9",
   "metadata": {},
   "outputs": [
    {
     "data": {
      "text/html": [
       "<div>\n",
       "<style scoped>\n",
       "    .dataframe tbody tr th:only-of-type {\n",
       "        vertical-align: middle;\n",
       "    }\n",
       "\n",
       "    .dataframe tbody tr th {\n",
       "        vertical-align: top;\n",
       "    }\n",
       "\n",
       "    .dataframe thead th {\n",
       "        text-align: right;\n",
       "    }\n",
       "</style>\n",
       "<table border=\"1\" class=\"dataframe\">\n",
       "  <thead>\n",
       "    <tr style=\"text-align: right;\">\n",
       "      <th></th>\n",
       "      <th>Brand</th>\n",
       "      <th>Model</th>\n",
       "      <th>Year</th>\n",
       "      <th>Mileage</th>\n",
       "      <th>Price</th>\n",
       "      <th>Engine</th>\n",
       "      <th>HP</th>\n",
       "    </tr>\n",
       "  </thead>\n",
       "  <tbody>\n",
       "    <tr>\n",
       "      <th>0</th>\n",
       "      <td>None</td>\n",
       "      <td>None</td>\n",
       "      <td>None</td>\n",
       "      <td>None</td>\n",
       "      <td>None</td>\n",
       "      <td>None</td>\n",
       "      <td>None</td>\n",
       "    </tr>\n",
       "  </tbody>\n",
       "</table>\n",
       "</div>"
      ],
      "text/plain": [
       "  Brand Model  Year Mileage Price Engine    HP\n",
       "0  None  None  None    None  None   None  None"
      ]
     },
     "execution_count": 34,
     "metadata": {},
     "output_type": "execute_result"
    }
   ],
   "source": [
    "df = pd.DataFrame([data])\n",
    "df"
   ]
  }
 ],
 "metadata": {
  "kernelspec": {
   "display_name": "Python 3",
   "language": "python",
   "name": "python3"
  },
  "language_info": {
   "codemirror_mode": {
    "name": "ipython",
    "version": 3
   },
   "file_extension": ".py",
   "mimetype": "text/x-python",
   "name": "python",
   "nbconvert_exporter": "python",
   "pygments_lexer": "ipython3",
   "version": "3.12.0"
  }
 },
 "nbformat": 4,
 "nbformat_minor": 5
}
