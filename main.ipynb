{
 "cells": [
  {
   "cell_type": "code",
   "execution_count": 2,
   "id": "7c3c7b6b",
   "metadata": {},
   "outputs": [],
   "source": [
    "from bs4 import BeautifulSoup as bs \n",
    "import requests\n",
    "import random\n",
    "import pandas as pd\n"
   ]
  },
  {
   "cell_type": "code",
   "execution_count": 10,
   "id": "1d48b415",
   "metadata": {},
   "outputs": [
    {
     "name": "stdout",
     "output_type": "stream",
     "text": [
      "Failed to fetch jobs: 400\n",
      "{\"status\":400}\n"
     ]
    }
   ],
   "source": [
    "csrf_token = 'ajax:5746537318857328232' \n",
    "cookies = 'li_at=AQEDAU6UcNQAxcqLAAABlzamrMYAAAGYsuiTwk0AzvdCCFxdIvxVhtuj7Su8940fuWcvCvmIcG5MGozvCOhlIXKZahEfm7RJecT94zXgDsJ9mrJjzLwzkt0Qp-bbSSBUz8lsn9i8U3sJ_4tE7g7zFOJL; JSESSIONID=\"ajax:5746537318857328232\"; other_cookies_here'  \n",
    "headers = {\n",
    "    'csrf-token': csrf_token,\n",
    "    'cookie': cookies,\n",
    "    'User-Agent': 'Mozilla/5.0 (Windows NT 10.0; Win64; x64) AppleWebKit/537.36 (KHTML, like Gecko) Chrome/115.0.0.0 Safari/537.36',\n",
    "    'Accept': 'application/json',\n",
    "    'x-restli-protocol-version': '2.0.0'\n",
    "}\n",
    "\n",
    "url = 'https://www.linkedin.com/voyager/api/voyagerJobsDashJobSearchHistories?action=addFromQuery'\n",
    "\n",
    "response = requests.get(url, headers=headers)\n",
    "\n",
    "if response.status_code == 200:\n",
    "    raw_data = response.json()\n",
    "    print(\"Jobs fetched successfully!\")\n",
    "    # Example: print job titles\n",
    "    for job in raw_data.get('elements', []):\n",
    "        print(job.get('title', {}).get('text', 'No title'))\n",
    "else:\n",
    "    print(f\"Failed to fetch jobs: {response.status_code}\")\n",
    "    print(response.text)\n",
    "\n",
    "\n",
    "    \n"
   ]
  },
  {
   "cell_type": "code",
   "execution_count": 11,
   "id": "028934d9",
   "metadata": {},
   "outputs": [
    {
     "data": {
      "text/html": [
       "<div>\n",
       "<style scoped>\n",
       "    .dataframe tbody tr th:only-of-type {\n",
       "        vertical-align: middle;\n",
       "    }\n",
       "\n",
       "    .dataframe tbody tr th {\n",
       "        vertical-align: top;\n",
       "    }\n",
       "\n",
       "    .dataframe thead th {\n",
       "        text-align: right;\n",
       "    }\n",
       "</style>\n",
       "<table border=\"1\" class=\"dataframe\">\n",
       "  <thead>\n",
       "    <tr style=\"text-align: right;\">\n",
       "      <th></th>\n",
       "      <th>jobRecommendationsEmailEnabled</th>\n",
       "      <th>seekingRemote</th>\n",
       "      <th>entityUrn</th>\n",
       "      <th>globalResumeShareEnabled</th>\n",
       "      <th>preferredRolesUrns</th>\n",
       "      <th>geoUrns</th>\n",
       "      <th>openToWorkReachabilityNotificationEnabled</th>\n",
       "      <th>saveExternalApplicationAnswersAllowed</th>\n",
       "      <th>profileSharedWithJobPoster</th>\n",
       "      <th>sharedWithRecruiters</th>\n",
       "      <th>openToWorkReachabilityEmailEnabled</th>\n",
       "      <th>$recipeType</th>\n",
       "      <th>jobRecommendationsPushNotificationsEnabled</th>\n",
       "      <th>saveSelfIdentificationAnswersAllowed</th>\n",
       "    </tr>\n",
       "  </thead>\n",
       "  <tbody>\n",
       "  </tbody>\n",
       "</table>\n",
       "</div>"
      ],
      "text/plain": [
       "Empty DataFrame\n",
       "Columns: [jobRecommendationsEmailEnabled, seekingRemote, entityUrn, globalResumeShareEnabled, preferredRolesUrns, geoUrns, openToWorkReachabilityNotificationEnabled, saveExternalApplicationAnswersAllowed, profileSharedWithJobPoster, sharedWithRecruiters, openToWorkReachabilityEmailEnabled, $recipeType, jobRecommendationsPushNotificationsEnabled, saveSelfIdentificationAnswersAllowed]\n",
       "Index: []"
      ]
     },
     "execution_count": 11,
     "metadata": {},
     "output_type": "execute_result"
    }
   ],
   "source": [
    "data = pd.DataFrame(raw_data)\n",
    "data"
   ]
  }
 ],
 "metadata": {
  "kernelspec": {
   "display_name": "Python 3",
   "language": "python",
   "name": "python3"
  },
  "language_info": {
   "codemirror_mode": {
    "name": "ipython",
    "version": 3
   },
   "file_extension": ".py",
   "mimetype": "text/x-python",
   "name": "python",
   "nbconvert_exporter": "python",
   "pygments_lexer": "ipython3",
   "version": "3.12.0"
  }
 },
 "nbformat": 4,
 "nbformat_minor": 5
}
