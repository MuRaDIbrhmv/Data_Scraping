{
 "cells": [
  {
   "cell_type": "code",
   "execution_count": 2,
   "id": "7c3c7b6b",
   "metadata": {},
   "outputs": [],
   "source": [
    "from bs4 import BeautifulSoup as bs \n",
    "import requests\n",
    "import random\n",
    "import pandas\n"
   ]
  },
  {
   "cell_type": "code",
   "execution_count": 12,
   "id": "1d48b415",
   "metadata": {},
   "outputs": [
    {
     "name": "stdout",
     "output_type": "stream",
     "text": [
      "Jobs fetched successfully!\n"
     ]
    }
   ],
   "source": [
    "csrf_token = 'ajax:5746537318857328232' \n",
    "cookies = 'li_at=AQEDAU6UcNQAxcqLAAABlzamrMYAAAGYsuiTwk0AzvdCCFxdIvxVhtuj7Su8940fuWcvCvmIcG5MGozvCOhlIXKZahEfm7RJecT94zXgDsJ9mrJjzLwzkt0Qp-bbSSBUz8lsn9i8U3sJ_4tE7g7zFOJL; JSESSIONID=\"ajax:5746537318857328232\"; other_cookies_here'  \n",
    "headers = {\n",
    "    'csrf-token': csrf_token,\n",
    "    'cookie': cookies,\n",
    "    'User-Agent': 'Mozilla/5.0 (Windows NT 10.0; Win64; x64) AppleWebKit/537.36 (KHTML, like Gecko) Chrome/115.0.0.0 Safari/537.36',\n",
    "    'Accept': 'application/json',\n",
    "    'x-restli-protocol-version': '2.0.0'\n",
    "}\n",
    "\n",
    "url = 'https://www.linkedin.com/voyager/api/voyagerJobsDashJobSeekerPreferences?decorationId=com.linkedin.voyager.dash.deco.jobs.FullJobSeekerPreference-8'\n",
    "\n",
    "response = requests.get(url, headers=headers)\n",
    "\n",
    "if response.status_code == 200:\n",
    "    data = response.json()\n",
    "    print(\"Jobs fetched successfully!\")\n",
    "    # Example: print job titles\n",
    "    for job in data.get('elements', []):\n",
    "        print(job.get('title', {}).get('text', 'No title'))\n",
    "else:\n",
    "    print(f\"Failed to fetch jobs: {response.status_code}\")\n",
    "    print(response.text)\n"
   ]
  },
  {
   "cell_type": "code",
   "execution_count": 13,
   "id": "028934d9",
   "metadata": {},
   "outputs": [
    {
     "data": {
      "text/plain": [
       "{'jobRecommendationsEmailEnabled': True,\n",
       " 'seekingRemote': False,\n",
       " 'entityUrn': 'urn:li:fsd_jobSeekerPreference:urn:li:fsd_profile:ACoAAE6UcNQBtzDx_NurlZmIxLgmcVEp6vH9Z-A',\n",
       " 'globalResumeShareEnabled': False,\n",
       " 'preferredRolesUrns': [],\n",
       " 'geoUrns': [],\n",
       " 'openToWorkReachabilityNotificationEnabled': True,\n",
       " 'saveExternalApplicationAnswersAllowed': True,\n",
       " 'profileSharedWithJobPoster': False,\n",
       " 'sharedWithRecruiters': False,\n",
       " 'openToWorkReachabilityEmailEnabled': False,\n",
       " '$recipeType': 'com.linkedin.voyager.dash.deco.jobs.FullJobSeekerPreference',\n",
       " 'jobRecommendationsPushNotificationsEnabled': True,\n",
       " 'saveSelfIdentificationAnswersAllowed': True}"
      ]
     },
     "execution_count": 13,
     "metadata": {},
     "output_type": "execute_result"
    }
   ],
   "source": [
    "data"
   ]
  }
 ],
 "metadata": {
  "kernelspec": {
   "display_name": "Python 3",
   "language": "python",
   "name": "python3"
  },
  "language_info": {
   "codemirror_mode": {
    "name": "ipython",
    "version": 3
   },
   "file_extension": ".py",
   "mimetype": "text/x-python",
   "name": "python",
   "nbconvert_exporter": "python",
   "pygments_lexer": "ipython3",
   "version": "3.12.0"
  }
 },
 "nbformat": 4,
 "nbformat_minor": 5
}
